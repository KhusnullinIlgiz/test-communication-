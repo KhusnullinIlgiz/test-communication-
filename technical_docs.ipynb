{
  "nbformat": 4,
  "nbformat_minor": 0,
  "metadata": {
    "colab": {
      "name": "technical-docs.ipynb",
      "provenance": [],
      "authorship_tag": "ABX9TyMXDRUj1qqyIgo7YMz7kZog",
      "include_colab_link": true
    },
    "kernelspec": {
      "name": "python3",
      "display_name": "Python 3"
    },
    "language_info": {
      "name": "python"
    }
  },
  "cells": [
    {
      "cell_type": "markdown",
      "metadata": {
        "id": "view-in-github",
        "colab_type": "text"
      },
      "source": [
        "<a href=\"https://colab.research.google.com/github/KhusnullinIlgiz/test-communication-/blob/main/technical_docs.ipynb\" target=\"_parent\"><img src=\"https://colab.research.google.com/assets/colab-badge.svg\" alt=\"Open In Colab\"/></a>"
      ]
    },
    {
      "cell_type": "markdown",
      "metadata": {
        "id": "JT6H3esukLRA"
      },
      "source": [
        "### Definition \n",
        "*One\n",
        "\n",
        "*Two"
      ]
    },
    {
      "cell_type": "code",
      "metadata": {
        "colab": {
          "base_uri": "https://localhost:8080/"
        },
        "id": "FHPnjg_fjR77",
        "outputId": "5cabed90-f86d-4ad8-c323-2925ebd070b9"
      },
      "source": [
        "def hello():\n",
        "  print(\"hi\")\n",
        "hello()"
      ],
      "execution_count": 1,
      "outputs": [
        {
          "output_type": "stream",
          "text": [
            "hi\n"
          ],
          "name": "stdout"
        }
      ]
    },
    {
      "cell_type": "code",
      "metadata": {
        "id": "Am1ZlbUxjl2K"
      },
      "source": [
        ""
      ],
      "execution_count": null,
      "outputs": []
    },
    {
      "cell_type": "markdown",
      "metadata": {
        "id": "X0pdBYo4kJHo"
      },
      "source": [
        ""
      ]
    },
    {
      "cell_type": "markdown",
      "metadata": {
        "id": "4k0xtKzSkKhe"
      },
      "source": [
        ""
      ]
    }
  ]
}